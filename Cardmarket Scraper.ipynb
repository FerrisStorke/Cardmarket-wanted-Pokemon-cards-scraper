{
 "cells": [
  {
   "cell_type": "code",
   "execution_count": 1,
   "id": "incident-young",
   "metadata": {},
   "outputs": [],
   "source": [
    "from selenium.webdriver.chrome.options import Options\n",
    "from selenium import webdriver      \n",
    "from selenium.common.exceptions import NoSuchElementException\n",
    "from selenium.webdriver.common.by import By\n",
    "import time\n",
    "import pandas as pd\n",
    "import numpy as np\n",
    "import urllib.request\n",
    "import os"
   ]
  },
  {
   "cell_type": "code",
   "execution_count": 6,
   "id": "controversial-formation",
   "metadata": {},
   "outputs": [
    {
     "name": "stdout",
     "output_type": "stream",
     "text": [
      "Loading of all pages took 10.1 seconds to run\n",
      "Looping through all cards took 226.9 seconds to run\n"
     ]
    }
   ],
   "source": [
    "# Set URL\n",
    "start_time = time.time()\n",
    "url = \"\"\"\n",
    "\n",
    "\n",
    "https://www.cardmarket.com/en/Pokemon/Products/Singles/Team-Rocket/Dark-Dragonair-TR33?language=1,3\n",
    "\n",
    "\n",
    "\n",
    "\"\"\"\n",
    "cards_list = []\n",
    "\n",
    "# Selenium settings\n",
    "option = Options()\n",
    "option.headless = True\n",
    "driver = webdriver.Chrome(options=option)\n",
    "\n",
    "# Initiate Selenium\n",
    "driver.get(url)\n",
    "\n",
    "# Load all pages\n",
    "while True:\n",
    "    try:\n",
    "        loadMoreButton = driver.find_element_by_xpath(\"\"\"//*[@id=\"loadMoreButton\"]\"\"\")\n",
    "        loadMoreButton.click()\n",
    "        time.sleep(1)\n",
    "    except Exception as e:\n",
    "        break\n",
    "\n",
    "duration_loading = time.time() - start_time\n",
    "print(\"Loading of all pages took\", round(duration_loading, 1), \"seconds to run\")\n",
    "\n",
    "        \n",
    "# Extract card information\n",
    "card_name = driver.find_element_by_xpath(\"/html/body/main/div[3]/div[1]/h1\").text.split(\"\\n\")[0]\n",
    "set_name = driver.find_element_by_xpath(\"/html/body/main/div[3]/div[1]/h1/span\").text\n",
    "number_on_sale = driver.find_element_by_xpath(\"\"\"//*[@id=\"tabContent-info\"]/div/div[1]/div/div[2]/dl/dd[6]\"\"\").text\n",
    "\n",
    "# Get all cards\n",
    "cards = driver.find_elements(By.XPATH, (\"\"\"//div[contains(@class, \"row no-gutters article-row\")]\"\"\"))\n",
    "duration_getting_cards = (time.time() - start_time) - duration_loading\n",
    "\n",
    "# Loop through each card and add info to list\n",
    "for e in cards:\n",
    "    # article id\n",
    "    article_id = e.get_attribute(\"id\").strip(\"articleRow\")\n",
    "    \n",
    "    # image links\n",
    "    if len(e.find_elements_by_tag_name(\"a\")) == 3:\n",
    "        image_url = None\n",
    "    else:\n",
    "        image_url = e.find_elements_by_tag_name(\"a\")[2].get_attribute(\"href\")\n",
    "    \n",
    "    # condition\n",
    "    condition = e.find_elements_by_tag_name(\"a\")[1].find_elements_by_tag_name(\"span\")[0].get_attribute(\"data-original-title\")\n",
    "    \n",
    "    # language\n",
    "    if e.find_elements_by_tag_name(\"span\")[6].get_attribute(\"data-original-title\") in [\"German\", \"English\"]:\n",
    "        language = e.find_elements_by_tag_name(\"span\")[6].get_attribute(\"data-original-title\")\n",
    "    elif e.find_elements_by_tag_name(\"span\")[7].get_attribute(\"data-original-title\") in [\"German\", \"English\"]:\n",
    "        language = e.find_elements_by_tag_name(\"span\")[7].get_attribute(\"data-original-title\")\n",
    "    elif e.find_elements_by_tag_name(\"span\")[8].get_attribute(\"data-original-title\") in [\"German\", \"English\"]:\n",
    "        language = e.find_elements_by_tag_name(\"span\")[8].get_attribute(\"data-original-title\")\n",
    "    elif e.find_elements_by_tag_name(\"span\")[9].get_attribute(\"data-original-title\") in [\"German\", \"English\"]:\n",
    "        language = e.find_elements_by_tag_name(\"span\")[9].get_attribute(\"data-original-title\")\n",
    "    elif e.find_elements_by_tag_name(\"span\")[10].get_attribute(\"data-original-title\") in [\"German\", \"English\"]:\n",
    "        language = e.find_elements_by_tag_name(\"span\")[10].get_attribute(\"data-original-title\")\n",
    "        \n",
    "        \n",
    "    # edition\n",
    "    if e.find_elements_by_tag_name(\"span\")[6].get_attribute(\"data-original-title\") in [\"First Edition\"]:\n",
    "        edition = e.find_elements_by_tag_name(\"span\")[6].get_attribute(\"data-original-title\")\n",
    "    if e.find_elements_by_tag_name(\"span\")[7].get_attribute(\"data-original-title\") in [\"First Edition\"]:\n",
    "        edition = e.find_elements_by_tag_name(\"span\")[7].get_attribute(\"data-original-title\")\n",
    "    elif e.find_elements_by_tag_name(\"span\")[8].get_attribute(\"data-original-title\") in [\"First Edition\"]:\n",
    "        edition = e.find_elements_by_tag_name(\"span\")[8].get_attribute(\"data-original-title\")\n",
    "    elif e.find_elements_by_tag_name(\"span\")[9].get_attribute(\"data-original-title\") in [\"First Edition\"]:\n",
    "        edition = e.find_elements_by_tag_name(\"span\")[9].get_attribute(\"data-original-title\")\n",
    "    elif e.find_elements_by_tag_name(\"span\")[10].get_attribute(\"data-original-title\") in [\"First Edition\"]:\n",
    "        edition = e.find_elements_by_tag_name(\"span\")[10].get_attribute(\"data-original-title\")\n",
    "    else:\n",
    "        edition = \"Second Edition\"\n",
    "        \n",
    "    # description\n",
    "    description = e.text.split(\"\\n\")\n",
    "    if len(description) > 4:\n",
    "        price = description[3].split(\" \")\n",
    "        price = price[0].replace(\".\", \"\")\n",
    "        price = price.replace(\",\", \".\")\n",
    "        price = float(price)\n",
    "        \n",
    "        cards_list.append({\"id\": article_id, \"name\": card_name, \"edition\": edition, \"set\": \"\", \"price\": price, \"seller\": description[2], \"items_sold_by_seller\": int(description[0])*1000, \"image\": image_url, \"language\": language, \"condition\": condition})\n",
    "    else:\n",
    "        price = description[2].split(\" \")\n",
    "        price = price[0].replace(\".\", \"\")\n",
    "        price = price.replace(\",\", \".\")\n",
    "        price = float(price)\n",
    "    \n",
    "\n",
    "    # Download photos    \n",
    "    if image_url:\n",
    "        path_name = f\"cards/cardmarket/{card_name}/{edition}/{price}\"\n",
    "        if not os.path.isdir(path_name):\n",
    "            os.makedirs(path_name)\n",
    "        urllib.request.urlretrieve(str(image_url), f\"{path_name}/{article_id}.jpg\")\n",
    "        \n",
    "    \n",
    "\n",
    "        cards_list.append({\"id\": article_id, \"name\": card_name, \"edition\": edition, \"set\": \"\", \"price\": price, \"seller\": description[1], \"items_sold_by_seller\": int(description[0]), \"image\": image_url, \"language\": language, \"condition\": condition})\n",
    "        \n",
    "        \n",
    "duration_looping_cards = (time.time() - start_time) - duration_getting_cards - duration_loading - duration_getting_cards\n",
    "print(\"Looping through all cards took\", round(duration_looping_cards, 1), \"seconds to run\")\n"
   ]
  },
  {
   "cell_type": "code",
   "execution_count": 7,
   "id": "documentary-trunk",
   "metadata": {},
   "outputs": [],
   "source": [
    "final_df = pd.read_csv(\"pokemon.csv\")\n",
    "df = pd.DataFrame(cards_list)\n",
    "final_df = final_df.append(df, ignore_index=True)\n",
    "final_df.to_csv(\"pokemon.csv\", index = False)"
   ]
  },
  {
   "cell_type": "code",
   "execution_count": 4,
   "id": "recreational-rolling",
   "metadata": {},
   "outputs": [
    {
     "data": {
      "text/plain": [
       "2128"
      ]
     },
     "execution_count": 4,
     "metadata": {},
     "output_type": "execute_result"
    }
   ],
   "source": [
    "len(final_df)"
   ]
  },
  {
   "cell_type": "code",
   "execution_count": 5,
   "id": "initial-reform",
   "metadata": {},
   "outputs": [
    {
     "data": {
      "text/plain": [
       "'Dark Primeape (TR 43)'"
      ]
     },
     "execution_count": 5,
     "metadata": {},
     "output_type": "execute_result"
    }
   ],
   "source": [
    "card_name"
   ]
  }
 ],
 "metadata": {
  "kernelspec": {
   "display_name": "Python 3 (ipykernel)",
   "language": "python",
   "name": "python3"
  },
  "language_info": {
   "codemirror_mode": {
    "name": "ipython",
    "version": 3
   },
   "file_extension": ".py",
   "mimetype": "text/x-python",
   "name": "python",
   "nbconvert_exporter": "python",
   "pygments_lexer": "ipython3",
   "version": "3.9.6"
  }
 },
 "nbformat": 4,
 "nbformat_minor": 5
}
